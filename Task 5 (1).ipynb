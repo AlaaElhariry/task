{
 "cells": [
  {
   "cell_type": "markdown",
   "id": "55386cec",
   "metadata": {},
   "source": [
    "# Clean & Git"
   ]
  },
  {
   "cell_type": "markdown",
   "id": "f25e319e",
   "metadata": {},
   "source": [
    "# 1. Cleaning Part"
   ]
  },
  {
   "cell_type": "markdown",
   "id": "12a8c3e8",
   "metadata": {},
   "source": [
    "# Dataset"
   ]
  },
  {
   "cell_type": "code",
   "execution_count": 305,
   "id": "1e21e47b",
   "metadata": {},
   "outputs": [],
   "source": [
    "#import libarires\n",
    "import pandas as pd\n",
    "import numpy as np"
   ]
  },
  {
   "cell_type": "code",
   "execution_count": 306,
   "id": "a0df061c",
   "metadata": {},
   "outputs": [
    {
     "data": {
      "text/html": [
       "<div>\n",
       "<style scoped>\n",
       "    .dataframe tbody tr th:only-of-type {\n",
       "        vertical-align: middle;\n",
       "    }\n",
       "\n",
       "    .dataframe tbody tr th {\n",
       "        vertical-align: top;\n",
       "    }\n",
       "\n",
       "    .dataframe thead th {\n",
       "        text-align: right;\n",
       "    }\n",
       "</style>\n",
       "<table border=\"1\" class=\"dataframe\">\n",
       "  <thead>\n",
       "    <tr style=\"text-align: right;\">\n",
       "      <th></th>\n",
       "      <th>age</th>\n",
       "      <th>job</th>\n",
       "      <th>marital</th>\n",
       "      <th>education</th>\n",
       "      <th>balance</th>\n",
       "      <th>duration</th>\n",
       "    </tr>\n",
       "  </thead>\n",
       "  <tbody>\n",
       "    <tr>\n",
       "      <th>0</th>\n",
       "      <td>58.0</td>\n",
       "      <td>management</td>\n",
       "      <td>married</td>\n",
       "      <td>tertiary</td>\n",
       "      <td>2143</td>\n",
       "      <td>261</td>\n",
       "    </tr>\n",
       "    <tr>\n",
       "      <th>1</th>\n",
       "      <td>44.0</td>\n",
       "      <td>technician</td>\n",
       "      <td>single</td>\n",
       "      <td>secondary</td>\n",
       "      <td>29</td>\n",
       "      <td>151</td>\n",
       "    </tr>\n",
       "    <tr>\n",
       "      <th>2</th>\n",
       "      <td>33.0</td>\n",
       "      <td>entrepreneur</td>\n",
       "      <td>married</td>\n",
       "      <td>secondary</td>\n",
       "      <td>2</td>\n",
       "      <td>76</td>\n",
       "    </tr>\n",
       "    <tr>\n",
       "      <th>3</th>\n",
       "      <td>47.0</td>\n",
       "      <td>blue-collar</td>\n",
       "      <td>married</td>\n",
       "      <td>unknown</td>\n",
       "      <td>1506</td>\n",
       "      <td>92</td>\n",
       "    </tr>\n",
       "    <tr>\n",
       "      <th>4</th>\n",
       "      <td>33.0</td>\n",
       "      <td>unknown</td>\n",
       "      <td>single</td>\n",
       "      <td>unknown</td>\n",
       "      <td>1</td>\n",
       "      <td>198</td>\n",
       "    </tr>\n",
       "    <tr>\n",
       "      <th>5</th>\n",
       "      <td>35.0</td>\n",
       "      <td>management</td>\n",
       "      <td>married</td>\n",
       "      <td>tertiary</td>\n",
       "      <td>231</td>\n",
       "      <td>139</td>\n",
       "    </tr>\n",
       "    <tr>\n",
       "      <th>6</th>\n",
       "      <td>28.0</td>\n",
       "      <td>management</td>\n",
       "      <td>single</td>\n",
       "      <td>tertiary</td>\n",
       "      <td>447</td>\n",
       "      <td>217</td>\n",
       "    </tr>\n",
       "    <tr>\n",
       "      <th>7</th>\n",
       "      <td>42.0</td>\n",
       "      <td>entrepreneur</td>\n",
       "      <td>divorced</td>\n",
       "      <td>tertiary</td>\n",
       "      <td>2</td>\n",
       "      <td>380</td>\n",
       "    </tr>\n",
       "    <tr>\n",
       "      <th>8</th>\n",
       "      <td>58.0</td>\n",
       "      <td>retired</td>\n",
       "      <td>married</td>\n",
       "      <td>primary</td>\n",
       "      <td>121</td>\n",
       "      <td>50</td>\n",
       "    </tr>\n",
       "    <tr>\n",
       "      <th>9</th>\n",
       "      <td>43.0</td>\n",
       "      <td>technician</td>\n",
       "      <td>single</td>\n",
       "      <td>secondary</td>\n",
       "      <td>593</td>\n",
       "      <td>55</td>\n",
       "    </tr>\n",
       "    <tr>\n",
       "      <th>10</th>\n",
       "      <td>41.0</td>\n",
       "      <td>admin.</td>\n",
       "      <td>divorced</td>\n",
       "      <td>secondary</td>\n",
       "      <td>270</td>\n",
       "      <td>222</td>\n",
       "    </tr>\n",
       "    <tr>\n",
       "      <th>11</th>\n",
       "      <td>29.0</td>\n",
       "      <td>admin.</td>\n",
       "      <td>single</td>\n",
       "      <td>secondary</td>\n",
       "      <td>390</td>\n",
       "      <td>137</td>\n",
       "    </tr>\n",
       "    <tr>\n",
       "      <th>12</th>\n",
       "      <td>53.0</td>\n",
       "      <td>technician</td>\n",
       "      <td>married</td>\n",
       "      <td>secondary</td>\n",
       "      <td>6</td>\n",
       "      <td>517</td>\n",
       "    </tr>\n",
       "    <tr>\n",
       "      <th>13</th>\n",
       "      <td>58.0</td>\n",
       "      <td>technician</td>\n",
       "      <td>married</td>\n",
       "      <td>unknown</td>\n",
       "      <td>71</td>\n",
       "      <td>71</td>\n",
       "    </tr>\n",
       "    <tr>\n",
       "      <th>14</th>\n",
       "      <td>57.0</td>\n",
       "      <td>services</td>\n",
       "      <td>married</td>\n",
       "      <td>secondary</td>\n",
       "      <td>162</td>\n",
       "      <td>174</td>\n",
       "    </tr>\n",
       "    <tr>\n",
       "      <th>15</th>\n",
       "      <td>51.0</td>\n",
       "      <td>retired</td>\n",
       "      <td>married</td>\n",
       "      <td>primary</td>\n",
       "      <td>229</td>\n",
       "      <td>353</td>\n",
       "    </tr>\n",
       "    <tr>\n",
       "      <th>16</th>\n",
       "      <td>45.0</td>\n",
       "      <td>admin.</td>\n",
       "      <td>single</td>\n",
       "      <td>unknown</td>\n",
       "      <td>13</td>\n",
       "      <td>98</td>\n",
       "    </tr>\n",
       "    <tr>\n",
       "      <th>17</th>\n",
       "      <td>57.0</td>\n",
       "      <td>blue-collar</td>\n",
       "      <td>married</td>\n",
       "      <td>primary</td>\n",
       "      <td>52</td>\n",
       "      <td>38</td>\n",
       "    </tr>\n",
       "    <tr>\n",
       "      <th>18</th>\n",
       "      <td>60.0</td>\n",
       "      <td>retired</td>\n",
       "      <td>married</td>\n",
       "      <td>primary</td>\n",
       "      <td>60</td>\n",
       "      <td>219</td>\n",
       "    </tr>\n",
       "    <tr>\n",
       "      <th>19</th>\n",
       "      <td>33.0</td>\n",
       "      <td>services</td>\n",
       "      <td>married</td>\n",
       "      <td>secondary</td>\n",
       "      <td>0</td>\n",
       "      <td>54</td>\n",
       "    </tr>\n",
       "  </tbody>\n",
       "</table>\n",
       "</div>"
      ],
      "text/plain": [
       "     age           job   marital  education  balance duration\n",
       "0   58.0    management   married   tertiary     2143      261\n",
       "1   44.0    technician    single  secondary       29      151\n",
       "2   33.0  entrepreneur   married  secondary        2       76\n",
       "3   47.0   blue-collar   married    unknown     1506       92\n",
       "4   33.0       unknown    single    unknown        1      198\n",
       "5   35.0    management   married   tertiary      231      139\n",
       "6   28.0    management    single   tertiary      447      217\n",
       "7   42.0  entrepreneur  divorced   tertiary        2      380\n",
       "8   58.0       retired   married    primary      121       50\n",
       "9   43.0    technician    single  secondary      593       55\n",
       "10  41.0        admin.  divorced  secondary      270      222\n",
       "11  29.0        admin.    single  secondary      390      137\n",
       "12  53.0    technician   married  secondary        6      517\n",
       "13  58.0    technician   married    unknown       71       71\n",
       "14  57.0      services   married  secondary      162      174\n",
       "15  51.0       retired   married    primary      229      353\n",
       "16  45.0        admin.    single    unknown       13       98\n",
       "17  57.0   blue-collar   married    primary       52       38\n",
       "18  60.0       retired   married    primary       60      219\n",
       "19  33.0      services   married  secondary        0       54"
      ]
     },
     "execution_count": 306,
     "metadata": {},
     "output_type": "execute_result"
    }
   ],
   "source": [
    "# load the dataset & show first 5 rows\n",
    "df=pd.read_csv('Bank_Customer.csv')\n",
    "df.head(20)"
   ]
  },
  {
   "cell_type": "code",
   "execution_count": 307,
   "id": "e4c53a08",
   "metadata": {},
   "outputs": [
    {
     "name": "stdout",
     "output_type": "stream",
     "text": [
      "<class 'pandas.core.frame.DataFrame'>\n",
      "RangeIndex: 1090 entries, 0 to 1089\n",
      "Data columns (total 6 columns):\n",
      " #   Column     Non-Null Count  Dtype  \n",
      "---  ------     --------------  -----  \n",
      " 0   age        1000 non-null   float64\n",
      " 1   job        1090 non-null   object \n",
      " 2   marital    1090 non-null   object \n",
      " 3   education  1090 non-null   object \n",
      " 4   balance    1090 non-null   int64  \n",
      " 5   duration   1090 non-null   object \n",
      "dtypes: float64(1), int64(1), object(4)\n",
      "memory usage: 51.2+ KB\n"
     ]
    }
   ],
   "source": [
    "# have an overview about the data using .info()\n",
    "df.info()"
   ]
  },
  {
   "cell_type": "code",
   "execution_count": 308,
   "id": "cbee40e3",
   "metadata": {},
   "outputs": [
    {
     "data": {
      "text/html": [
       "<div>\n",
       "<style scoped>\n",
       "    .dataframe tbody tr th:only-of-type {\n",
       "        vertical-align: middle;\n",
       "    }\n",
       "\n",
       "    .dataframe tbody tr th {\n",
       "        vertical-align: top;\n",
       "    }\n",
       "\n",
       "    .dataframe thead th {\n",
       "        text-align: right;\n",
       "    }\n",
       "</style>\n",
       "<table border=\"1\" class=\"dataframe\">\n",
       "  <thead>\n",
       "    <tr style=\"text-align: right;\">\n",
       "      <th></th>\n",
       "      <th>age</th>\n",
       "      <th>balance</th>\n",
       "    </tr>\n",
       "  </thead>\n",
       "  <tbody>\n",
       "    <tr>\n",
       "      <th>count</th>\n",
       "      <td>1000.000000</td>\n",
       "      <td>1090.000000</td>\n",
       "    </tr>\n",
       "    <tr>\n",
       "      <th>mean</th>\n",
       "      <td>42.582000</td>\n",
       "      <td>564.387156</td>\n",
       "    </tr>\n",
       "    <tr>\n",
       "      <th>std</th>\n",
       "      <td>9.070035</td>\n",
       "      <td>2553.749723</td>\n",
       "    </tr>\n",
       "    <tr>\n",
       "      <th>min</th>\n",
       "      <td>22.000000</td>\n",
       "      <td>-932.000000</td>\n",
       "    </tr>\n",
       "    <tr>\n",
       "      <th>25%</th>\n",
       "      <td>35.000000</td>\n",
       "      <td>22.000000</td>\n",
       "    </tr>\n",
       "    <tr>\n",
       "      <th>50%</th>\n",
       "      <td>42.000000</td>\n",
       "      <td>173.000000</td>\n",
       "    </tr>\n",
       "    <tr>\n",
       "      <th>75%</th>\n",
       "      <td>50.000000</td>\n",
       "      <td>443.500000</td>\n",
       "    </tr>\n",
       "    <tr>\n",
       "      <th>max</th>\n",
       "      <td>61.000000</td>\n",
       "      <td>58544.000000</td>\n",
       "    </tr>\n",
       "  </tbody>\n",
       "</table>\n",
       "</div>"
      ],
      "text/plain": [
       "               age       balance\n",
       "count  1000.000000   1090.000000\n",
       "mean     42.582000    564.387156\n",
       "std       9.070035   2553.749723\n",
       "min      22.000000   -932.000000\n",
       "25%      35.000000     22.000000\n",
       "50%      42.000000    173.000000\n",
       "75%      50.000000    443.500000\n",
       "max      61.000000  58544.000000"
      ]
     },
     "execution_count": 308,
     "metadata": {},
     "output_type": "execute_result"
    }
   ],
   "source": [
    "# summarize what is wrong with your data !! (hint: Missing_values)\n",
    "df.describe()"
   ]
  },
  {
   "cell_type": "markdown",
   "id": "f9d740c1",
   "metadata": {},
   "source": [
    "# Dealing with missing values:"
   ]
  },
  {
   "cell_type": "raw",
   "id": "dcf0d45d",
   "metadata": {},
   "source": [
    "hint: Impute NaN in age column\n",
    "BONUS: solve it with two imputing ways."
   ]
  },
  {
   "cell_type": "code",
   "execution_count": 317,
   "id": "2e432550",
   "metadata": {},
   "outputs": [
    {
     "data": {
      "text/plain": [
       "0       58.0\n",
       "1       44.0\n",
       "2       33.0\n",
       "3       47.0\n",
       "4       33.0\n",
       "        ... \n",
       "1085     0.0\n",
       "1086     0.0\n",
       "1087     0.0\n",
       "1088     0.0\n",
       "1089     0.0\n",
       "Name: age, Length: 1090, dtype: float64"
      ]
     },
     "execution_count": 317,
     "metadata": {},
     "output_type": "execute_result"
    }
   ],
   "source": [
    "# First Methodology:\n",
    "df.age.fillna(0)"
   ]
  },
  {
   "cell_type": "code",
   "execution_count": 322,
   "id": "2a476b76",
   "metadata": {},
   "outputs": [],
   "source": [
    "# Second Methodology\n",
    "df.age.fillna(method ='bfill',inplace=True)"
   ]
  },
  {
   "cell_type": "markdown",
   "id": "a064de38",
   "metadata": {},
   "source": [
    "# Run df.isna().sum() to make sure no more missing values."
   ]
  },
  {
   "cell_type": "markdown",
   "id": "aefd6299",
   "metadata": {},
   "source": [
    "_Hint: Don't Forget those hidden ones.\n",
    "use .unique() or .value_counts() for help."
   ]
  },
  {
   "cell_type": "code",
   "execution_count": 323,
   "id": "79aa6012",
   "metadata": {},
   "outputs": [
    {
     "data": {
      "text/plain": [
       "age          90\n",
       "job           0\n",
       "marital       0\n",
       "education     0\n",
       "balance       0\n",
       "duration      0\n",
       "dtype: int64"
      ]
     },
     "execution_count": 323,
     "metadata": {},
     "output_type": "execute_result"
    }
   ],
   "source": [
    "df.isna().sum()"
   ]
  },
  {
   "cell_type": "code",
   "execution_count": 324,
   "id": "099c033b",
   "metadata": {},
   "outputs": [
    {
     "data": {
      "text/plain": [
       "array([58., 44., 33., 47., 35., 28., 42., 43., 41., 29., 53., 57., 51.,\n",
       "       45., 60., 56., 32., 25., 40., 39., 52., 46., 36., 49., 59., 37.,\n",
       "       50., 54., 55., 48., 24., 38., 31., 30., 27., 34., 23., 26., 61.,\n",
       "       22., nan])"
      ]
     },
     "execution_count": 324,
     "metadata": {},
     "output_type": "execute_result"
    }
   ],
   "source": [
    "df.age.unique()"
   ]
  },
  {
   "cell_type": "code",
   "execution_count": 325,
   "id": "db907a06",
   "metadata": {},
   "outputs": [
    {
     "data": {
      "text/plain": [
       "40.0    52\n",
       "37.0    45\n",
       "33.0    44\n",
       "38.0    42\n",
       "42.0    40\n",
       "39.0    40\n",
       "44.0    36\n",
       "55.0    36\n",
       "36.0    35\n",
       "43.0    35\n",
       "46.0    34\n",
       "35.0    33\n",
       "31.0    33\n",
       "34.0    33\n",
       "32.0    29\n",
       "57.0    29\n",
       "53.0    29\n",
       "47.0    29\n",
       "41.0    27\n",
       "49.0    27\n",
       "30.0    26\n",
       "51.0    25\n",
       "29.0    25\n",
       "54.0    24\n",
       "48.0    23\n",
       "50.0    22\n",
       "59.0    21\n",
       "52.0    21\n",
       "45.0    20\n",
       "56.0    20\n",
       "58.0    18\n",
       "60.0    14\n",
       "28.0    10\n",
       "26.0     5\n",
       "27.0     5\n",
       "24.0     5\n",
       "25.0     3\n",
       "23.0     2\n",
       "61.0     2\n",
       "22.0     1\n",
       "Name: age, dtype: int64"
      ]
     },
     "execution_count": 325,
     "metadata": {},
     "output_type": "execute_result"
    }
   ],
   "source": [
    "df.age.value_counts()"
   ]
  },
  {
   "cell_type": "markdown",
   "id": "05b8428e",
   "metadata": {},
   "source": [
    "# Check for duplicates if exist."
   ]
  },
  {
   "cell_type": "code",
   "execution_count": 326,
   "id": "d1d461b5",
   "metadata": {},
   "outputs": [
    {
     "data": {
      "text/plain": [
       "0"
      ]
     },
     "execution_count": 326,
     "metadata": {},
     "output_type": "execute_result"
    }
   ],
   "source": [
    "df.duplicated().sum()"
   ]
  },
  {
   "cell_type": "markdown",
   "id": "7d20905e",
   "metadata": {},
   "source": [
    "# Go on your work by cleaning the duration column."
   ]
  },
  {
   "cell_type": "code",
   "execution_count": 327,
   "id": "0d59c88d",
   "metadata": {},
   "outputs": [
    {
     "data": {
      "text/plain": [
       "179     9\n",
       "zero    9\n",
       "262     8\n",
       "112     8\n",
       "144     8\n",
       "       ..\n",
       "683     1\n",
       "802     1\n",
       "70      1\n",
       "316     1\n",
       "165     1\n",
       "Name: duration, Length: 481, dtype: int64"
      ]
     },
     "execution_count": 327,
     "metadata": {},
     "output_type": "execute_result"
    }
   ],
   "source": [
    "df.duration.value_counts()"
   ]
  },
  {
   "cell_type": "code",
   "execution_count": 329,
   "id": "5ec64cbd",
   "metadata": {},
   "outputs": [
    {
     "ename": "ValueError",
     "evalue": "Unable to parse string \"zero\" at position 110",
     "output_type": "error",
     "traceback": [
      "\u001b[1;31m---------------------------------------------------------------------------\u001b[0m",
      "\u001b[1;31mValueError\u001b[0m                                Traceback (most recent call last)",
      "\u001b[1;32mpandas\\_libs\\lib.pyx\u001b[0m in \u001b[0;36mpandas._libs.lib.maybe_convert_numeric\u001b[1;34m()\u001b[0m\n",
      "\u001b[1;31mValueError\u001b[0m: Unable to parse string \"zero\"",
      "\nDuring handling of the above exception, another exception occurred:\n",
      "\u001b[1;31mValueError\u001b[0m                                Traceback (most recent call last)",
      "\u001b[1;32m<ipython-input-329-8eddeadfc23c>\u001b[0m in \u001b[0;36m<module>\u001b[1;34m\u001b[0m\n\u001b[1;32m----> 1\u001b[1;33m \u001b[0mdf\u001b[0m\u001b[1;33m[\u001b[0m\u001b[1;34m\"duration\"\u001b[0m\u001b[1;33m]\u001b[0m \u001b[1;33m=\u001b[0m \u001b[0mpd\u001b[0m\u001b[1;33m.\u001b[0m\u001b[0mto_numeric\u001b[0m\u001b[1;33m(\u001b[0m\u001b[0mdf\u001b[0m\u001b[1;33m[\u001b[0m\u001b[1;34m\"duration\"\u001b[0m\u001b[1;33m]\u001b[0m\u001b[1;33m)\u001b[0m\u001b[1;33m\u001b[0m\u001b[1;33m\u001b[0m\u001b[0m\n\u001b[0m",
      "\u001b[1;32m~\\anaconda3\\lib\\site-packages\\pandas\\core\\tools\\numeric.py\u001b[0m in \u001b[0;36mto_numeric\u001b[1;34m(arg, errors, downcast)\u001b[0m\n\u001b[0;32m    152\u001b[0m         \u001b[0mcoerce_numeric\u001b[0m \u001b[1;33m=\u001b[0m \u001b[0merrors\u001b[0m \u001b[1;32mnot\u001b[0m \u001b[1;32min\u001b[0m \u001b[1;33m(\u001b[0m\u001b[1;34m\"ignore\"\u001b[0m\u001b[1;33m,\u001b[0m \u001b[1;34m\"raise\"\u001b[0m\u001b[1;33m)\u001b[0m\u001b[1;33m\u001b[0m\u001b[1;33m\u001b[0m\u001b[0m\n\u001b[0;32m    153\u001b[0m         \u001b[1;32mtry\u001b[0m\u001b[1;33m:\u001b[0m\u001b[1;33m\u001b[0m\u001b[1;33m\u001b[0m\u001b[0m\n\u001b[1;32m--> 154\u001b[1;33m             values = lib.maybe_convert_numeric(\n\u001b[0m\u001b[0;32m    155\u001b[0m                 \u001b[0mvalues\u001b[0m\u001b[1;33m,\u001b[0m \u001b[0mset\u001b[0m\u001b[1;33m(\u001b[0m\u001b[1;33m)\u001b[0m\u001b[1;33m,\u001b[0m \u001b[0mcoerce_numeric\u001b[0m\u001b[1;33m=\u001b[0m\u001b[0mcoerce_numeric\u001b[0m\u001b[1;33m\u001b[0m\u001b[1;33m\u001b[0m\u001b[0m\n\u001b[0;32m    156\u001b[0m             )\n",
      "\u001b[1;32mpandas\\_libs\\lib.pyx\u001b[0m in \u001b[0;36mpandas._libs.lib.maybe_convert_numeric\u001b[1;34m()\u001b[0m\n",
      "\u001b[1;31mValueError\u001b[0m: Unable to parse string \"zero\" at position 110"
     ]
    }
   ],
   "source": [
    "df[\"duration\"] = pd.to_numeric(df[\"duration\"])"
   ]
  },
  {
   "cell_type": "code",
   "execution_count": 330,
   "id": "8e8dd030",
   "metadata": {},
   "outputs": [],
   "source": [
    "df['duration'] = df['duration'].replace({'zero':0})  "
   ]
  },
  {
   "cell_type": "code",
   "execution_count": 331,
   "id": "c39d0ddb",
   "metadata": {},
   "outputs": [],
   "source": [
    "df['duration'] = df['duration'].astype(int)\n"
   ]
  },
  {
   "cell_type": "code",
   "execution_count": 332,
   "id": "b97b74e1",
   "metadata": {},
   "outputs": [
    {
     "data": {
      "text/plain": [
       "0       9\n",
       "179     9\n",
       "262     8\n",
       "144     8\n",
       "174     8\n",
       "       ..\n",
       "398     1\n",
       "401     1\n",
       "49      1\n",
       "404     1\n",
       "2033    1\n",
       "Name: duration, Length: 481, dtype: int64"
      ]
     },
     "execution_count": 332,
     "metadata": {},
     "output_type": "execute_result"
    }
   ],
   "source": [
    "df.duration.value_counts()"
   ]
  },
  {
   "cell_type": "code",
   "execution_count": 333,
   "id": "3c85e632",
   "metadata": {},
   "outputs": [
    {
     "data": {
      "text/plain": [
       "array([ 261,  151,   76,   92,  198,  139,  217,  380,   50,   55,  222,\n",
       "        137,  517,   71,  174,  353,   98,   38,  219,   54,  262,  164,\n",
       "        160,  342,  181,  172,  296,  127,  255,  348,  225,  230,  208,\n",
       "        226,  336,  242,  365, 1666,  577,  180,   22, 1492,  616,  355,\n",
       "        363,  266,  253,  179,  787,  145,  104,   13,  185, 1778,  138,\n",
       "        812,  391,  357,   91,  528,  273,  158,  177,  258,  154,  291,\n",
       "        176,  211,  349,  272,  193,  212,   20, 1042,  246,  529, 1467,\n",
       "       1389,  188,   48,  213,  583,  221,  173,  426,  287,  101,  203,\n",
       "        197,  257,  124,  229,  400,  190,   21,  514,  849,    0,  144,\n",
       "        286,  107,  247,  518,  364,  178,  439,   79,  120,  175,   61,\n",
       "         78,  143,  579,  677,  345,  100,  125,  136,   73,  541,  163,\n",
       "        301,   46,  204,  157,  243,  186,  610, 2033,   85,  114,   57,\n",
       "        238,   93,  128,  303,  558,  270,  228,   99,  240,  673,  233,\n",
       "       1056,  250,  252,  130,  412,   19,  458,  717,  313,  683, 1077,\n",
       "        416,  146,  167,  315,  140,  346,  562,  142,   67,  309,  248,\n",
       "        256,   82,  477,  611,  471,  381,   42,  251,  408,  215,  216,\n",
       "        366,  210,  288,  168,  338,  410,  300, 1419,   27,   18,  730,\n",
       "        746,  121,   40,  206,  389,  702,  117,  232,   39,  282,  714,\n",
       "        227,  119,  361,  350,  332,  113,  132,   58,   89,  152,  110,\n",
       "        463,  962,   10,  118,  189,  234,   75,  621,  310,  156,    5,\n",
       "          2,  742,  362,  200,  126,   65,  267,  209,  205,   83,  106,\n",
       "        105,  108,  311,  214,  358,  453,  386,  241,  224,  148,  196,\n",
       "        111,  231,  316,  425,  135,  402,  183,  325,  503,   95,  680,\n",
       "        421,  808,  195,  347,  404,  396,   88,  379,  102,  306,  218,\n",
       "        344,  652,  184,  235,  290,  133,  318,  260,  437,  501, 1201,\n",
       "       1030,  149,  769,  199,  424,   43,  326,  393,  483,  259,  576,\n",
       "         90,  505,  245,  623,  496,  276,   87,  744,  765,  150,  112,\n",
       "        278, 1623,  354,  187,  451,  159,  409,  170,  608,   53,  134,\n",
       "        678,  182,  162,  699,   97, 1677,  283,  323,   47,   30,  472,\n",
       "        448,  264,  169,  337,  374,  531,  153,   80,  918,  269,  371,\n",
       "        427,  604,  263,  129,  191,   26,  289,  123,  161,  268,  383,\n",
       "        440,   23, 1297,   69,  524,   96,  155,  352,  390,  369,  341,\n",
       "        526,   36, 1906,  147,  407,  339,  285,  703,  802,  304,  392,\n",
       "        201,  328,  116,  293,   37,  530,   29,  312,  284,  507,  684,\n",
       "        333,  322,  202,  739,  308,  467,  320,   64,  378, 1597,   60,\n",
       "        109,   31,  593,  631,   32, 1529,  254,  314,  597,  207,  305,\n",
       "        122,   66,  343,   59,  249,  406,  220,   51,  275,  479,   35,\n",
       "        720,   70,  141,  395,  629,  502,  446,  131,  292,   68,  852,\n",
       "        923,  953,  294,   74,  520,  171,  485,  732,  359, 1521,  800,\n",
       "        615,  327,  236,  492,  298, 1138,  591,  786,  192,  388,  401,\n",
       "        435,  223,  423,  634,  799,  444,  566,  274,   49,  376,  866,\n",
       "         56, 1581,  279,  432,  516,  614,  650,   72,  474,  559, 1101,\n",
       "        912,  690,  329, 1062,  688,  103,  194,  607,  398,  481, 2177,\n",
       "        418,   94,  441,  165,  764,  297, 1273, 1574])"
      ]
     },
     "execution_count": 333,
     "metadata": {},
     "output_type": "execute_result"
    }
   ],
   "source": [
    "df.duration.unique()"
   ]
  },
  {
   "cell_type": "code",
   "execution_count": 334,
   "id": "0cf7905a",
   "metadata": {},
   "outputs": [
    {
     "data": {
      "text/html": [
       "<div>\n",
       "<style scoped>\n",
       "    .dataframe tbody tr th:only-of-type {\n",
       "        vertical-align: middle;\n",
       "    }\n",
       "\n",
       "    .dataframe tbody tr th {\n",
       "        vertical-align: top;\n",
       "    }\n",
       "\n",
       "    .dataframe thead th {\n",
       "        text-align: right;\n",
       "    }\n",
       "</style>\n",
       "<table border=\"1\" class=\"dataframe\">\n",
       "  <thead>\n",
       "    <tr style=\"text-align: right;\">\n",
       "      <th></th>\n",
       "      <th>age</th>\n",
       "      <th>job</th>\n",
       "      <th>marital</th>\n",
       "      <th>education</th>\n",
       "      <th>balance</th>\n",
       "      <th>duration</th>\n",
       "    </tr>\n",
       "  </thead>\n",
       "  <tbody>\n",
       "    <tr>\n",
       "      <th>0</th>\n",
       "      <td>58.0</td>\n",
       "      <td>management</td>\n",
       "      <td>married</td>\n",
       "      <td>tertiary</td>\n",
       "      <td>2143</td>\n",
       "      <td>261</td>\n",
       "    </tr>\n",
       "    <tr>\n",
       "      <th>1</th>\n",
       "      <td>44.0</td>\n",
       "      <td>technician</td>\n",
       "      <td>single</td>\n",
       "      <td>secondary</td>\n",
       "      <td>29</td>\n",
       "      <td>151</td>\n",
       "    </tr>\n",
       "    <tr>\n",
       "      <th>2</th>\n",
       "      <td>33.0</td>\n",
       "      <td>entrepreneur</td>\n",
       "      <td>married</td>\n",
       "      <td>secondary</td>\n",
       "      <td>2</td>\n",
       "      <td>76</td>\n",
       "    </tr>\n",
       "    <tr>\n",
       "      <th>3</th>\n",
       "      <td>47.0</td>\n",
       "      <td>blue-collar</td>\n",
       "      <td>married</td>\n",
       "      <td>unknown</td>\n",
       "      <td>1506</td>\n",
       "      <td>92</td>\n",
       "    </tr>\n",
       "    <tr>\n",
       "      <th>4</th>\n",
       "      <td>33.0</td>\n",
       "      <td>unknown</td>\n",
       "      <td>single</td>\n",
       "      <td>unknown</td>\n",
       "      <td>1</td>\n",
       "      <td>198</td>\n",
       "    </tr>\n",
       "    <tr>\n",
       "      <th>...</th>\n",
       "      <td>...</td>\n",
       "      <td>...</td>\n",
       "      <td>...</td>\n",
       "      <td>...</td>\n",
       "      <td>...</td>\n",
       "      <td>...</td>\n",
       "    </tr>\n",
       "    <tr>\n",
       "      <th>115</th>\n",
       "      <td>44.0</td>\n",
       "      <td>blue-collar</td>\n",
       "      <td>married</td>\n",
       "      <td>secondary</td>\n",
       "      <td>144</td>\n",
       "      <td>247</td>\n",
       "    </tr>\n",
       "    <tr>\n",
       "      <th>116</th>\n",
       "      <td>41.0</td>\n",
       "      <td>admin.</td>\n",
       "      <td>married</td>\n",
       "      <td>secondary</td>\n",
       "      <td>351</td>\n",
       "      <td>518</td>\n",
       "    </tr>\n",
       "    <tr>\n",
       "      <th>117</th>\n",
       "      <td>33.0</td>\n",
       "      <td>management</td>\n",
       "      <td>single</td>\n",
       "      <td>tertiary</td>\n",
       "      <td>-67</td>\n",
       "      <td>364</td>\n",
       "    </tr>\n",
       "    <tr>\n",
       "      <th>118</th>\n",
       "      <td>59.0</td>\n",
       "      <td>management</td>\n",
       "      <td>divorced</td>\n",
       "      <td>tertiary</td>\n",
       "      <td>262</td>\n",
       "      <td>178</td>\n",
       "    </tr>\n",
       "    <tr>\n",
       "      <th>119</th>\n",
       "      <td>57.0</td>\n",
       "      <td>technician</td>\n",
       "      <td>married</td>\n",
       "      <td>primary</td>\n",
       "      <td>0</td>\n",
       "      <td>98</td>\n",
       "    </tr>\n",
       "  </tbody>\n",
       "</table>\n",
       "<p>120 rows × 6 columns</p>\n",
       "</div>"
      ],
      "text/plain": [
       "      age           job   marital  education  balance  duration\n",
       "0    58.0    management   married   tertiary     2143       261\n",
       "1    44.0    technician    single  secondary       29       151\n",
       "2    33.0  entrepreneur   married  secondary        2        76\n",
       "3    47.0   blue-collar   married    unknown     1506        92\n",
       "4    33.0       unknown    single    unknown        1       198\n",
       "..    ...           ...       ...        ...      ...       ...\n",
       "115  44.0   blue-collar   married  secondary      144       247\n",
       "116  41.0        admin.   married  secondary      351       518\n",
       "117  33.0    management    single   tertiary      -67       364\n",
       "118  59.0    management  divorced   tertiary      262       178\n",
       "119  57.0    technician   married    primary        0        98\n",
       "\n",
       "[120 rows x 6 columns]"
      ]
     },
     "execution_count": 334,
     "metadata": {},
     "output_type": "execute_result"
    }
   ],
   "source": [
    "df.head(120)"
   ]
  },
  {
   "cell_type": "markdown",
   "id": "ffecd6cb",
   "metadata": {},
   "source": [
    "# Show your data in the given form below:"
   ]
  },
  {
   "cell_type": "markdown",
   "id": "4a158166",
   "metadata": {},
   "source": [
    "Note: age represents the average_age\n",
    "Note: duration represents the max_duration"
   ]
  },
  {
   "cell_type": "code",
   "execution_count": 335,
   "id": "b59800c2",
   "metadata": {},
   "outputs": [],
   "source": [
    "data=df.groupby('job').agg({'age':'mean','duration':'max'})"
   ]
  },
  {
   "cell_type": "code",
   "execution_count": 337,
   "id": "cc306f1e",
   "metadata": {},
   "outputs": [
    {
     "data": {
      "text/html": [
       "<div>\n",
       "<style scoped>\n",
       "    .dataframe tbody tr th:only-of-type {\n",
       "        vertical-align: middle;\n",
       "    }\n",
       "\n",
       "    .dataframe tbody tr th {\n",
       "        vertical-align: top;\n",
       "    }\n",
       "\n",
       "    .dataframe thead th {\n",
       "        text-align: right;\n",
       "    }\n",
       "</style>\n",
       "<table border=\"1\" class=\"dataframe\">\n",
       "  <thead>\n",
       "    <tr style=\"text-align: right;\">\n",
       "      <th></th>\n",
       "      <th>age</th>\n",
       "      <th>duration</th>\n",
       "    </tr>\n",
       "    <tr>\n",
       "      <th>job</th>\n",
       "      <th></th>\n",
       "      <th></th>\n",
       "    </tr>\n",
       "  </thead>\n",
       "  <tbody>\n",
       "    <tr>\n",
       "      <th>admin.</th>\n",
       "      <td>40.787234</td>\n",
       "      <td>1677</td>\n",
       "    </tr>\n",
       "    <tr>\n",
       "      <th>blue-collar</th>\n",
       "      <td>42.773973</td>\n",
       "      <td>2177</td>\n",
       "    </tr>\n",
       "    <tr>\n",
       "      <th>entrepreneur</th>\n",
       "      <td>43.310345</td>\n",
       "      <td>746</td>\n",
       "    </tr>\n",
       "    <tr>\n",
       "      <th>housemaid</th>\n",
       "      <td>44.000000</td>\n",
       "      <td>699</td>\n",
       "    </tr>\n",
       "    <tr>\n",
       "      <th>management</th>\n",
       "      <td>42.642336</td>\n",
       "      <td>2033</td>\n",
       "    </tr>\n",
       "    <tr>\n",
       "      <th>retired</th>\n",
       "      <td>54.276596</td>\n",
       "      <td>1492</td>\n",
       "    </tr>\n",
       "    <tr>\n",
       "      <th>self-employed</th>\n",
       "      <td>43.884615</td>\n",
       "      <td>448</td>\n",
       "    </tr>\n",
       "    <tr>\n",
       "      <th>services</th>\n",
       "      <td>41.122137</td>\n",
       "      <td>1778</td>\n",
       "    </tr>\n",
       "    <tr>\n",
       "      <th>student</th>\n",
       "      <td>28.307692</td>\n",
       "      <td>611</td>\n",
       "    </tr>\n",
       "    <tr>\n",
       "      <th>technician</th>\n",
       "      <td>42.364865</td>\n",
       "      <td>1666</td>\n",
       "    </tr>\n",
       "    <tr>\n",
       "      <th>unemployed</th>\n",
       "      <td>41.478261</td>\n",
       "      <td>918</td>\n",
       "    </tr>\n",
       "    <tr>\n",
       "      <th>unknown</th>\n",
       "      <td>44.000000</td>\n",
       "      <td>347</td>\n",
       "    </tr>\n",
       "  </tbody>\n",
       "</table>\n",
       "</div>"
      ],
      "text/plain": [
       "                     age  duration\n",
       "job                               \n",
       "admin.         40.787234      1677\n",
       "blue-collar    42.773973      2177\n",
       "entrepreneur   43.310345       746\n",
       "housemaid      44.000000       699\n",
       "management     42.642336      2033\n",
       "retired        54.276596      1492\n",
       "self-employed  43.884615       448\n",
       "services       41.122137      1778\n",
       "student        28.307692       611\n",
       "technician     42.364865      1666\n",
       "unemployed     41.478261       918\n",
       "unknown        44.000000       347"
      ]
     },
     "execution_count": 337,
     "metadata": {},
     "output_type": "execute_result"
    }
   ],
   "source": [
    "data"
   ]
  },
  {
   "cell_type": "markdown",
   "id": "240dbba4",
   "metadata": {},
   "source": [
    "# Show the table of the previous question after it by duration:"
   ]
  },
  {
   "cell_type": "code",
   "execution_count": 338,
   "id": "610e10f2",
   "metadata": {},
   "outputs": [],
   "source": [
    " data=data.sort_values(['duration'], ascending=True)"
   ]
  },
  {
   "cell_type": "code",
   "execution_count": 339,
   "id": "9014032e",
   "metadata": {},
   "outputs": [
    {
     "data": {
      "text/html": [
       "<div>\n",
       "<style scoped>\n",
       "    .dataframe tbody tr th:only-of-type {\n",
       "        vertical-align: middle;\n",
       "    }\n",
       "\n",
       "    .dataframe tbody tr th {\n",
       "        vertical-align: top;\n",
       "    }\n",
       "\n",
       "    .dataframe thead th {\n",
       "        text-align: right;\n",
       "    }\n",
       "</style>\n",
       "<table border=\"1\" class=\"dataframe\">\n",
       "  <thead>\n",
       "    <tr style=\"text-align: right;\">\n",
       "      <th></th>\n",
       "      <th>age</th>\n",
       "      <th>duration</th>\n",
       "    </tr>\n",
       "    <tr>\n",
       "      <th>job</th>\n",
       "      <th></th>\n",
       "      <th></th>\n",
       "    </tr>\n",
       "  </thead>\n",
       "  <tbody>\n",
       "    <tr>\n",
       "      <th>unknown</th>\n",
       "      <td>44.000000</td>\n",
       "      <td>347</td>\n",
       "    </tr>\n",
       "    <tr>\n",
       "      <th>self-employed</th>\n",
       "      <td>43.884615</td>\n",
       "      <td>448</td>\n",
       "    </tr>\n",
       "    <tr>\n",
       "      <th>student</th>\n",
       "      <td>28.307692</td>\n",
       "      <td>611</td>\n",
       "    </tr>\n",
       "    <tr>\n",
       "      <th>housemaid</th>\n",
       "      <td>44.000000</td>\n",
       "      <td>699</td>\n",
       "    </tr>\n",
       "    <tr>\n",
       "      <th>entrepreneur</th>\n",
       "      <td>43.310345</td>\n",
       "      <td>746</td>\n",
       "    </tr>\n",
       "    <tr>\n",
       "      <th>unemployed</th>\n",
       "      <td>41.478261</td>\n",
       "      <td>918</td>\n",
       "    </tr>\n",
       "    <tr>\n",
       "      <th>retired</th>\n",
       "      <td>54.276596</td>\n",
       "      <td>1492</td>\n",
       "    </tr>\n",
       "    <tr>\n",
       "      <th>technician</th>\n",
       "      <td>42.364865</td>\n",
       "      <td>1666</td>\n",
       "    </tr>\n",
       "    <tr>\n",
       "      <th>admin.</th>\n",
       "      <td>40.787234</td>\n",
       "      <td>1677</td>\n",
       "    </tr>\n",
       "    <tr>\n",
       "      <th>services</th>\n",
       "      <td>41.122137</td>\n",
       "      <td>1778</td>\n",
       "    </tr>\n",
       "    <tr>\n",
       "      <th>management</th>\n",
       "      <td>42.642336</td>\n",
       "      <td>2033</td>\n",
       "    </tr>\n",
       "    <tr>\n",
       "      <th>blue-collar</th>\n",
       "      <td>42.773973</td>\n",
       "      <td>2177</td>\n",
       "    </tr>\n",
       "  </tbody>\n",
       "</table>\n",
       "</div>"
      ],
      "text/plain": [
       "                     age  duration\n",
       "job                               \n",
       "unknown        44.000000       347\n",
       "self-employed  43.884615       448\n",
       "student        28.307692       611\n",
       "housemaid      44.000000       699\n",
       "entrepreneur   43.310345       746\n",
       "unemployed     41.478261       918\n",
       "retired        54.276596      1492\n",
       "technician     42.364865      1666\n",
       "admin.         40.787234      1677\n",
       "services       41.122137      1778\n",
       "management     42.642336      2033\n",
       "blue-collar    42.773973      2177"
      ]
     },
     "execution_count": 339,
     "metadata": {},
     "output_type": "execute_result"
    }
   ],
   "source": [
    "data"
   ]
  },
  {
   "cell_type": "markdown",
   "id": "d3662a01",
   "metadata": {},
   "source": [
    "# Use qcut method on age column to create a new column called age_divided that divides the customers into two categories (young_customers and old_customers):"
   ]
  },
  {
   "cell_type": "code",
   "execution_count": 340,
   "id": "3fc75e1b",
   "metadata": {},
   "outputs": [
    {
     "data": {
      "text/plain": [
       "(21.999, 42.0]    535\n",
       "(42.0, 61.0]      465\n",
       "Name: age, dtype: int64"
      ]
     },
     "execution_count": 340,
     "metadata": {},
     "output_type": "execute_result"
    }
   ],
   "source": [
    "age= pd.qcut(df['age'],q=2).value_counts()\n",
    "age"
   ]
  },
  {
   "cell_type": "code",
   "execution_count": 341,
   "id": "8b9f31f5",
   "metadata": {},
   "outputs": [],
   "source": [
    "age_divided=['young_customers','old_customers']\n",
    "cut_bins=[0,21, 42,61]"
   ]
  },
  {
   "cell_type": "code",
   "execution_count": 342,
   "id": "94185c84",
   "metadata": {},
   "outputs": [],
   "source": [
    "df['age_divided']=pd.cut(df['age'],bins=[21,42,61],labels=age_divided)"
   ]
  },
  {
   "cell_type": "code",
   "execution_count": 343,
   "id": "e7f22a3d",
   "metadata": {},
   "outputs": [
    {
     "data": {
      "text/html": [
       "<div>\n",
       "<style scoped>\n",
       "    .dataframe tbody tr th:only-of-type {\n",
       "        vertical-align: middle;\n",
       "    }\n",
       "\n",
       "    .dataframe tbody tr th {\n",
       "        vertical-align: top;\n",
       "    }\n",
       "\n",
       "    .dataframe thead th {\n",
       "        text-align: right;\n",
       "    }\n",
       "</style>\n",
       "<table border=\"1\" class=\"dataframe\">\n",
       "  <thead>\n",
       "    <tr style=\"text-align: right;\">\n",
       "      <th></th>\n",
       "      <th>age</th>\n",
       "      <th>job</th>\n",
       "      <th>marital</th>\n",
       "      <th>education</th>\n",
       "      <th>balance</th>\n",
       "      <th>duration</th>\n",
       "      <th>age_divided</th>\n",
       "    </tr>\n",
       "  </thead>\n",
       "  <tbody>\n",
       "    <tr>\n",
       "      <th>0</th>\n",
       "      <td>58.0</td>\n",
       "      <td>management</td>\n",
       "      <td>married</td>\n",
       "      <td>tertiary</td>\n",
       "      <td>2143</td>\n",
       "      <td>261</td>\n",
       "      <td>old_customers</td>\n",
       "    </tr>\n",
       "    <tr>\n",
       "      <th>1</th>\n",
       "      <td>44.0</td>\n",
       "      <td>technician</td>\n",
       "      <td>single</td>\n",
       "      <td>secondary</td>\n",
       "      <td>29</td>\n",
       "      <td>151</td>\n",
       "      <td>old_customers</td>\n",
       "    </tr>\n",
       "    <tr>\n",
       "      <th>2</th>\n",
       "      <td>33.0</td>\n",
       "      <td>entrepreneur</td>\n",
       "      <td>married</td>\n",
       "      <td>secondary</td>\n",
       "      <td>2</td>\n",
       "      <td>76</td>\n",
       "      <td>young_customers</td>\n",
       "    </tr>\n",
       "    <tr>\n",
       "      <th>3</th>\n",
       "      <td>47.0</td>\n",
       "      <td>blue-collar</td>\n",
       "      <td>married</td>\n",
       "      <td>unknown</td>\n",
       "      <td>1506</td>\n",
       "      <td>92</td>\n",
       "      <td>old_customers</td>\n",
       "    </tr>\n",
       "    <tr>\n",
       "      <th>4</th>\n",
       "      <td>33.0</td>\n",
       "      <td>unknown</td>\n",
       "      <td>single</td>\n",
       "      <td>unknown</td>\n",
       "      <td>1</td>\n",
       "      <td>198</td>\n",
       "      <td>young_customers</td>\n",
       "    </tr>\n",
       "  </tbody>\n",
       "</table>\n",
       "</div>"
      ],
      "text/plain": [
       "    age           job  marital  education  balance  duration      age_divided\n",
       "0  58.0    management  married   tertiary     2143       261    old_customers\n",
       "1  44.0    technician   single  secondary       29       151    old_customers\n",
       "2  33.0  entrepreneur  married  secondary        2        76  young_customers\n",
       "3  47.0   blue-collar  married    unknown     1506        92    old_customers\n",
       "4  33.0       unknown   single    unknown        1       198  young_customers"
      ]
     },
     "execution_count": 343,
     "metadata": {},
     "output_type": "execute_result"
    }
   ],
   "source": [
    "df.head()"
   ]
  },
  {
   "cell_type": "markdown",
   "id": "904a82e3",
   "metadata": {},
   "source": [
    "# Show the average_age and max_duration of the divided customers like this:\n",
    "hint: Use groupby method:\n"
   ]
  },
  {
   "cell_type": "code",
   "execution_count": null,
   "id": "7d7654bf",
   "metadata": {},
   "outputs": [],
   "source": []
  },
  {
   "cell_type": "code",
   "execution_count": 344,
   "id": "7918c8ea",
   "metadata": {},
   "outputs": [],
   "source": [
    "average=df.groupby('age_divided')[['age','duration']].aggregate({'age':'mean','duration':'max'})"
   ]
  },
  {
   "cell_type": "code",
   "execution_count": 345,
   "id": "cf17171d",
   "metadata": {},
   "outputs": [
    {
     "data": {
      "text/html": [
       "<div>\n",
       "<style scoped>\n",
       "    .dataframe tbody tr th:only-of-type {\n",
       "        vertical-align: middle;\n",
       "    }\n",
       "\n",
       "    .dataframe tbody tr th {\n",
       "        vertical-align: top;\n",
       "    }\n",
       "\n",
       "    .dataframe thead th {\n",
       "        text-align: right;\n",
       "    }\n",
       "</style>\n",
       "<table border=\"1\" class=\"dataframe\">\n",
       "  <thead>\n",
       "    <tr style=\"text-align: right;\">\n",
       "      <th></th>\n",
       "      <th>age</th>\n",
       "      <th>duration</th>\n",
       "    </tr>\n",
       "    <tr>\n",
       "      <th>age_divided</th>\n",
       "      <th></th>\n",
       "      <th></th>\n",
       "    </tr>\n",
       "  </thead>\n",
       "  <tbody>\n",
       "    <tr>\n",
       "      <th>young_customers</th>\n",
       "      <td>35.403738</td>\n",
       "      <td>2033</td>\n",
       "    </tr>\n",
       "    <tr>\n",
       "      <th>old_customers</th>\n",
       "      <td>50.840860</td>\n",
       "      <td>1778</td>\n",
       "    </tr>\n",
       "  </tbody>\n",
       "</table>\n",
       "</div>"
      ],
      "text/plain": [
       "                       age  duration\n",
       "age_divided                         \n",
       "young_customers  35.403738      2033\n",
       "old_customers    50.840860      1778"
      ]
     },
     "execution_count": 345,
     "metadata": {},
     "output_type": "execute_result"
    }
   ],
   "source": [
    "average"
   ]
  },
  {
   "cell_type": "markdown",
   "id": "4e5411ad",
   "metadata": {},
   "source": [
    "# "
   ]
  },
  {
   "cell_type": "markdown",
   "id": "0007ebf5",
   "metadata": {},
   "source": [
    "# Git Part"
   ]
  },
  {
   "cell_type": "markdown",
   "id": "56f3cf6b",
   "metadata": {},
   "source": [
    "\n",
    "1. What is Git?\n",
    "- a) A nickname for GitHub\n",
    "- b) A remote repository platform\n",
    "- c) A programming language\n",
    "- d) A version control system"
   ]
  },
  {
   "cell_type": "markdown",
   "id": "743a9928",
   "metadata": {},
   "source": [
    "answer\n",
    "- d"
   ]
  },
  {
   "cell_type": "markdown",
   "id": "77f43634",
   "metadata": {},
   "source": [
    "# "
   ]
  },
  {
   "cell_type": "markdown",
   "id": "5504cf4b",
   "metadata": {},
   "source": [
    " 2. Why we use the Version Contol System ?"
   ]
  },
  {
   "cell_type": "markdown",
   "id": "91253b0d",
   "metadata": {},
   "source": [
    "answer\n",
    "-  It helps you keep track of changes made to your code during development and is also used to collaborate with other developers. Every person collaborating on a project repository has the exact same information that the other person has, including all commits and history.\n",
    "\n",
    "- When you work locally on your system, you have a local repository. A remote repository exists somewhere outside your local machine, and it is possible to keep both in sync with each other."
   ]
  },
  {
   "cell_type": "markdown",
   "id": "3b23c495",
   "metadata": {},
   "source": [
    "# "
   ]
  },
  {
   "cell_type": "markdown",
   "id": "ada06c86",
   "metadata": {},
   "source": [
    " 3. Which command should you use to initialize a new Git repository?\n",
    "\n",
    "\n",
    "- a) git bash\n",
    "\n",
    "- b) git install\n",
    "\n",
    "- c) git init\n",
    "\n",
    "- d) git start"
   ]
  },
  {
   "cell_type": "markdown",
   "id": "b727ff44",
   "metadata": {},
   "source": [
    "answer\n",
    "- c"
   ]
  },
  {
   "cell_type": "markdown",
   "id": "10583f65",
   "metadata": {},
   "source": [
    "3. After you initialize a new Git repository and create a file named **`git-quiz.html`** , which of the following commands will **NOT** work if issued?\n",
    "\n",
    "\n",
    "-  a) **`git add`** git-quiz.html\n",
    "\n",
    "- b) **`git status`**\n",
    "\n",
    "- c) **`git add .`**\n",
    "\n",
    "- d) **`git commit -m`** \"git quiz web file added\""
   ]
  },
  {
   "cell_type": "markdown",
   "id": "8e3ad31d",
   "metadata": {},
   "source": [
    "answer \n",
    "- d"
   ]
  },
  {
   "cell_type": "markdown",
   "id": "8b7195fd",
   "metadata": {},
   "source": [
    "# "
   ]
  },
  {
   "cell_type": "markdown",
   "id": "972f0219",
   "metadata": {},
   "source": [
    "# Problems"
   ]
  },
  {
   "cell_type": "markdown",
   "id": "4e23fbc5",
   "metadata": {},
   "source": [
    "Problem_1"
   ]
  },
  {
   "cell_type": "markdown",
   "id": "5ca57b1c",
   "metadata": {},
   "source": [
    "- problem_link\n",
    "https://codeforces.com/problemset/problem/282/A"
   ]
  },
  {
   "cell_type": "code",
   "execution_count": null,
   "id": "78daf315",
   "metadata": {},
   "outputs": [],
   "source": [
    "n=int(input())\n",
    "x=0\n",
    "for _ in range(0,n):\n",
    "    s=input()\n",
    "    if \"++\" in s:\n",
    "        x=x+1\n",
    "    else:\n",
    "        x=x-1\n",
    "print(x)    \n"
   ]
  },
  {
   "cell_type": "markdown",
   "id": "303fba0a",
   "metadata": {},
   "source": [
    "Problem_2\n"
   ]
  },
  {
   "cell_type": "markdown",
   "id": "3aafa055",
   "metadata": {},
   "source": [
    "- problem_link \n",
    "https://codeforces.com/group/T3p02rhrmb/contest/324959/problem/G\n"
   ]
  },
  {
   "cell_type": "code",
   "execution_count": null,
   "id": "24ca05dc",
   "metadata": {},
   "outputs": [],
   "source": [
    "import numpy as np\n",
    "n=int(input())\n",
    "x=np.sum(np.arange(1, n+1))\n",
    "print(x)"
   ]
  },
  {
   "cell_type": "markdown",
   "id": "6659b22f",
   "metadata": {},
   "source": [
    "# Use git to upload this notebook on Gitub and put the link:"
   ]
  },
  {
   "cell_type": "code",
   "execution_count": null,
   "id": "4dccd6b1",
   "metadata": {},
   "outputs": [],
   "source": []
  }
 ],
 "metadata": {
  "kernelspec": {
   "display_name": "Python 3",
   "language": "python",
   "name": "python3"
  },
  "language_info": {
   "codemirror_mode": {
    "name": "ipython",
    "version": 3
   },
   "file_extension": ".py",
   "mimetype": "text/x-python",
   "name": "python",
   "nbconvert_exporter": "python",
   "pygments_lexer": "ipython3",
   "version": "3.8.8"
  }
 },
 "nbformat": 4,
 "nbformat_minor": 5
}
